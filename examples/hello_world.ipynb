{
 "cells": [
  {
   "cell_type": "markdown",
   "metadata": {},
   "source": [
    "Run this snippet to verify the package:\n",
    "```python\n",
    "import gpt_fusion.math_helpers\n",
    "```"
   ]
  }
 ],
 "metadata": {
  "language_info": {
   "name": "python",
   "pygments_lexer": "ipython3"
  },
  "plan": "1. Add minimal hello-world notebook. 2. Contains single Markdown cell showing how to import math helpers."
 },
 "nbformat": 4,
 "nbformat_minor": 5
}
